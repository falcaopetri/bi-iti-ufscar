{
 "cells": [
  {
   "cell_type": "code",
   "execution_count": null,
   "source": [
    "import pandas as pd\n",
    "from datetime import datetime\n",
    "import numpy as np"
   ],
   "outputs": [],
   "metadata": {}
  },
  {
   "cell_type": "markdown",
   "source": [
    "## Config"
   ],
   "metadata": {}
  },
  {
   "cell_type": "code",
   "execution_count": null,
   "source": [
    "SPREADSHEET_KEY = os.getenv(\"SPREADSHEET_KEY\")\n",
    "TARGET_END_DATE = pd.to_datetime(\"2021-09-19\")\n",
    "FILE_PATH = \"dados/Superloja_original.xls\"\n",
    "TODAY = datetime.today().date()"
   ],
   "outputs": [],
   "metadata": {}
  },
  {
   "cell_type": "markdown",
   "source": [
    "## Preprocessing functions"
   ],
   "metadata": {}
  },
  {
   "cell_type": "code",
   "execution_count": null,
   "source": [
    "def shift_dates_to_end_at(df, target_end_date):\n",
    "    \"\"\"\n",
    "    Faz com que Data da compra (e Data de envio) sejam deslocados no tempo\n",
    "    para que a maior Data da compra ocorra no dia target_end_date\n",
    "    \"\"\"\n",
    "    df = df.copy()\n",
    "    curr_end_date = df[\"Data da compra\"].max()\n",
    "\n",
    "    print(f\"\\tDeslocando data de compra {curr_end_date.date()} para {target_end_date.date()}.\")\n",
    "\n",
    "    shift_value = (target_end_date - curr_end_date)\n",
    "    df[\"Data da compra\"] = (df[\"Data da compra\"] + shift_value).dt.date\n",
    "    df[\"Data de envio\"] = (df[\"Data de envio\"] + shift_value).dt.date\n",
    "    return df"
   ],
   "outputs": [],
   "metadata": {}
  },
  {
   "cell_type": "code",
   "execution_count": null,
   "source": [
    "def preprocess(df):\n",
    "    print(\"\\tRemovendo coluna Vendas\")\n",
    "    df = df.drop(columns=\"Vendas\")\n",
    "    print(\"\\tRemovendo coluna Lucro\")\n",
    "    df[\"Lucro\"] = df[\"Lucro\"].abs()\n",
    "    df = shift_dates_to_end_at(df, TARGET_END_DATE)\n",
    "    \n",
    "    assert df[\"Data da compra\"].max() == TARGET_END_DATE\n",
    "    return df"
   ],
   "outputs": [],
   "metadata": {}
  },
  {
   "cell_type": "markdown",
   "source": [
    "## Data selection functions"
   ],
   "metadata": {}
  },
  {
   "cell_type": "code",
   "execution_count": null,
   "source": [
    "def set_sent_til(df, date):\n",
    "    \"\"\"Marca como missing todas as Data de envio maiores do que date\"\"\"\n",
    "    print(f\"\\tLimpando datas de envio maiores que {date}.\")\n",
    "    df = df.copy()\n",
    "    df.loc[df[\"Data de envio\"] > date, \"Data de envio\"] = np.nan\n",
    "    return df\n",
    "\n",
    "\n",
    "def get_data_til(df, date):\n",
    "    \"\"\"Seleciona todas as informações de compra existentes até a data date\"\"\"\n",
    "    print(f\"\\tSelecionando base histórica até o dia {date}.\")\n",
    "    df = df[df[\"Data da compra\"] <= date]\n",
    "    return set_sent_til(df, date)"
   ],
   "outputs": [],
   "metadata": {}
  },
  {
   "cell_type": "markdown",
   "source": [
    "## Load to Sheets functions"
   ],
   "metadata": {}
  },
  {
   "cell_type": "code",
   "execution_count": null,
   "source": [
    "import os\n",
    "\n",
    "from oauth2client.service_account import ServiceAccountCredentials\n",
    "import gspread\n",
    "from df2gspread import df2gspread as d2g\n",
    "\n",
    "\n",
    "def get_credentials():\n",
    "    \"\"\"Se autentica para utilizar a API do Google Sheets\"\"\"\n",
    "    scope = [\n",
    "        'https://spreadsheets.google.com/feeds',\n",
    "        'https://www.googleapis.com/auth/drive'\n",
    "    ]\n",
    "\n",
    "    credentials = ServiceAccountCredentials.from_json_keyfile_name(\n",
    "        'superloja-bi-iti-ufscar.json', \n",
    "        scope\n",
    "    )\n",
    "    gspread.authorize(credentials)\n",
    "    return credentials\n",
    "\n",
    "\n",
    "def send_data_to_sheets(df, spreadsheet_key):\n",
    "    \"\"\"Envia a tabela para o Google Sheets especificado\"\"\"\n",
    "    credentials = get_credentials()\n",
    "    wks_name = 'Vendas'\n",
    "    print(\"\\tEnviando dados para Google Sheets\")\n",
    "    d2g.upload(df, spreadsheet_key, wks_name, credentials=credentials, row_names=False)"
   ],
   "outputs": [],
   "metadata": {}
  },
  {
   "cell_type": "markdown",
   "source": [
    "## Run pipeline"
   ],
   "metadata": {}
  },
  {
   "cell_type": "code",
   "execution_count": null,
   "source": [
    "# Extract\n",
    "print(\"Extracting from original database\")\n",
    "df = pd.read_excel(FILE_PATH)\n",
    "# Transform\n",
    "print(\"Transforming data\")\n",
    "preprocessed_df = preprocess(df)\n",
    "processed_df = get_data_til(preprocessed_df, TODAY)\n",
    "# Load\n",
    "print(\"Loading data to destination database\")\n",
    "send_data_to_sheets(processed_df, SPREADSHEET_KEY)"
   ],
   "outputs": [],
   "metadata": {}
  }
 ],
 "metadata": {
  "orig_nbformat": 4,
  "language_info": {
   "name": "python",
   "version": "3.9.6",
   "mimetype": "text/x-python",
   "codemirror_mode": {
    "name": "ipython",
    "version": 3
   },
   "pygments_lexer": "ipython3",
   "nbconvert_exporter": "python",
   "file_extension": ".py"
  },
  "kernelspec": {
   "name": "python3",
   "display_name": "Python 3.9.6 64-bit"
  },
  "interpreter": {
   "hash": "e7370f93d1d0cde622a1f8e1c04877d8463912d04d973331ad4851f04de6915a"
  }
 },
 "nbformat": 4,
 "nbformat_minor": 2
}