{
  "cells": [
    {
      "cell_type": "markdown",
      "metadata": {},
      "source": [
        "### Glossário\n",
        "- `BD`: sigla para Banco de Dados. Em inglês, `DB` para *Database*.\n",
        "- `sqlalchemy`: biblioteca Python que suporta a conexão com diferentes tipos de BDs existentes.\n",
        "- `pip`: ferramenta para instalar bibliotecas do Python\n",
        "- `biblioteca`: É comum agruparmos vários processamentos de dados em uma biblioteca. Juntos, esses processamentos realizam determinadas tarefas, como visualizar ou interagir com os dados. Uma biblioteca pode ser desenvolvida por você ou por terceiros visando reaproveitar as mesmas manipulações em diferentes lugares.\n",
        "- `GitHub`: um dos lugares mais utilizados por desenvolvedores de softwares para compartilhar códigos com a comunidade mundial.\n",
        "- `pandas`: biblioteca para manipulação de tabelas, normalmente conhecidas como `dataframes`.\n",
        "- `dataframes`: pode ser entendido como uma tabela de dados com linhas e colunas, como uma sheet/folha no Excel.\n",
        "- `pd`: um apelido convencinado pela comunidade `pandas` para se referir ao `pandas` dentro de um código.\n",
        "- `df`: uma abreviação de dataframe. É uma outra convenção da comunidade."
      ]
    },
    {
      "cell_type": "markdown",
      "metadata": {
        "id": "NzUZR-qlPhPp"
      },
      "source": [
        "## Setup da fonte dos dados\n",
        "\n",
        "- Antes de começar, certifique-se de seguir **um** dos dois passos para carregar os dados:\n",
        "    - Via planilha:\n",
        "        - Adicione o arquivo a este ambiente. Você pode clicar no ícone de \"pasta de arquivos\" na barra lateral esquerda para fazer o upload do arquivo.\n",
        "        - Na célula a seguir, configure o nome do arquivo. Exemplo: `NOME_DO_EXCEL = 'Superloja.xls'`\n",
        "    - Via conexão com o Banco de Dados:\n",
        "        - Na célula a seguir, configure as credenciais fornecidas.\n",
        "- Execute as células clicando no botão de play ao lado de cada uma, inclusive após configurar a célula a seguir."
      ]
    },
    {
      "cell_type": "code",
      "execution_count": null,
      "metadata": {},
      "outputs": [],
      "source": [
        "from pathlib import Path\n",
        "\n",
        "# Opção 1. Configure o nome do arquivo que você fez upload\n",
        "NOME_DO_EXCEL = 'Superloja.xls'\n",
        "\n",
        "# Opção 2. adicione as informações para se conectar ao banco de dados disponibilizado\n",
        "credentials = {\n",
        "    'drivername': 'mysql',\n",
        "    'username'  : '',\n",
        "    'password'  : '',\n",
        "    'host'      : '',\n",
        "    'port'      : '3306',\n",
        "    'database'  : ''\n",
        "}\n",
        "\n",
        "credentials['password'] = quote(credentials['password'])\n",
        "connect_url = sqlalchemy.engine.url.URL.create(**credentials)"
      ]
    },
    {
      "cell_type": "code",
      "execution_count": null,
      "metadata": {},
      "outputs": [],
      "source": [
        "if Path(NOME_DO_EXCEL).exists():\n",
        "    # Caso o arquivo excel tenha sido carregado\n",
        "    print(f\"Arquivo '{NOME_DO_EXCEL}' existe e está pronto para ser carregado.\")\n",
        "elif all(value for value in credentials.values()):\n",
        "    # Caso contrário, testamos para verificar se as credenciais do BD foram configuradas\n",
        "    print(\"Todos os parâmetros de conexão foram configurados (a conexão ainda não foi testada).\")\n",
        "    print(f\"Iremos nos conectar com '{connect_url}' (senha mascarada automaticamente).\")\n",
        "else:\n",
        "    # Não encontramos nem o arquivo e nem todas as credenciais do BD\n",
        "    print(f\"Arquivo '{NOME_DO_EXCEL}' não existe, e as credenciais do BD não foram preenchidas!\")"
      ]
    },
    {
      "cell_type": "markdown",
      "metadata": {},
      "source": [
        "---"
      ]
    },
    {
      "cell_type": "markdown",
      "metadata": {
        "id": "1qEDGN6trPtO"
      },
      "source": [
        "## Setup do ambiente\n",
        "\n",
        "O código a seguir utiliza o comando `pip` para instalar a biblioteca [`pandas_profiling`](https://github.com/pandas-profiling/pandas-profiling), [`mysql-connector-python`](https://docs.sqlalchemy.org/en/14/dialects/mysql.html#module-sqlalchemy.dialects.mysql.mysqlconnector) e [`mysqlclient`](https://github.com/PyMySQL/mysqlclient).\n"
      ]
    },
    {
      "cell_type": "code",
      "execution_count": null,
      "metadata": {
        "id": "r85zot6uozzg"
      },
      "outputs": [],
      "source": [
        "%pip install --upgrade --quiet --quiet pandas_profiling\n",
        "%pip install --upgrade --quiet --quiet mysql-connector-python mysqlclient"
      ]
    },
    {
      "cell_type": "markdown",
      "metadata": {
        "id": "msZUhHG3rUdy"
      },
      "source": [
        "## Carregando o dataset\n",
        "\n",
        "A sequência de comandos a seguir:\n",
        "\n",
        "1. Carrega a biblioteca `pandas`, e sinaliza que queremos nos referir a ela pelo nome `pd`\n",
        "2. Utiliza a biblioteca `pandas` para ler:\n",
        "    2.1. Da planilha excel, caso ela tenha sido carregada localmente.\n",
        "    2.2. Do banco de dados MySQL, caso a planilha não tenha sido carregada localmente e as credenciais tenham sido configuradas.\n",
        "3. Armazena o dataframe com o nome temporário de `df`.\n",
        "\n",
        "## Relatório inicial\n",
        "\n",
        "- Vamos utilizar a biblioteca `pandas_profiling` para gerar automaticamente uma análise exploratória inicial.\n",
        "- Após declaramos o uso da bibliteca com o comando `import`, ficará disponível o comando `profile_report`."
      ]
    },
    {
      "cell_type": "code",
      "execution_count": null,
      "metadata": {
        "id": "9bGwn2SPl_GQ"
      },
      "outputs": [],
      "source": [
        "import pandas as pd\n",
        "\n",
        "if Path(NOME_DO_EXCEL).exists():\n",
        "    df = pd.read_excel(NOME_DO_EXCEL)\n",
        "else:\n",
        "    # Realizamos uma consulta a base de dados superloja, na tabela vendas\n",
        "    df = pd.read_sql('SELECT * FROM superloja.vendas', str(connect_url))"
      ]
    },
    {
      "cell_type": "code",
      "execution_count": null,
      "metadata": {
        "id": "_W1KIsgpswsr"
      },
      "outputs": [],
      "source": [
        "import pandas_profiling\n",
        "\n",
        "# Gerar relatório\n",
        "profile = df.profile_report(title=\"Análise exploratória automatizada - Superloja\")\n",
        "# Salvar o relatório. Ele ficará disponível nos arquivos locais\n",
        "profile.to_file(\"relatório.html\")"
      ]
    }
  ],
  "metadata": {
    "colab": {
      "collapsed_sections": [
        "1qEDGN6trPtO"
      ],
      "name": "1-Análise exploratória.ipynb",
      "provenance": []
    },
    "kernelspec": {
      "name": "python3",
      "display_name": "Python 3"
    },
    "language_info": {
      "name": "python"
    }
  },
  "nbformat": 4,
  "nbformat_minor": 0
}