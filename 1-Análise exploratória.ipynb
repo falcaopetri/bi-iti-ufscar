{
  "nbformat": 4,
  "nbformat_minor": 0,
  "metadata": {
    "colab": {
      "name": "[Superloja] 1. Análise exploratória.ipynb",
      "provenance": [],
      "collapsed_sections": [
        "1qEDGN6trPtO"
      ]
    },
    "kernelspec": {
      "name": "python3",
      "display_name": "Python 3"
    },
    "language_info": {
      "name": "python"
    }
  },
  "cells": [
    {
      "cell_type": "markdown",
      "metadata": {
        "id": "NzUZR-qlPhPp"
      },
      "source": [
        "- Antes de começar, certifique-se de ter adicionado o arquivo `Superloja.xls` a este ambiente. Você pode utilizar o ícone de pasta na barra lateral esquerda para fazer o upload do arquivo.\n",
        "\n",
        "---\n",
        "\n"
      ]
    },
    {
      "cell_type": "markdown",
      "metadata": {
        "id": "1qEDGN6trPtO"
      },
      "source": [
        "## Setup\n",
        "\n",
        "O código a seguir utiliza o comando `pip` para instalar a biblioteca [`pandas_profiling`](https://github.com/pandas-profiling/pandas-profiling).\n",
        "\n",
        "### Glossário\n",
        "- `pip`: ferramenta para instalar bibliotecas do Python\n",
        "- `biblioteca`: É comum agruparmos vários processamentos de dados em uma biblioteca. Juntos, esses processamentos realizam determinadas tarefas, como visualizar ou interagir com os dados. Uma biblioteca pode ser desenvolvida por você ou por terceiros visando reaproveitar as mesmas manipulações em diferentes lugares."
      ]
    },
    {
      "cell_type": "code",
      "metadata": {
        "id": "r85zot6uozzg"
      },
      "source": [
        "%pip install --upgrade --quiet --quiet pandas_profiling"
      ],
      "execution_count": null,
      "outputs": []
    },
    {
      "cell_type": "markdown",
      "metadata": {
        "id": "msZUhHG3rUdy"
      },
      "source": [
        "## Carregando o dataset\n",
        "\n",
        "A sequência de comandos a seguir:\n",
        "\n",
        "1. Faz o download da planilha a partir do link do GitHub\n",
        "2. Carrega a biblioteca `pandas`, e sinaliza que queremos nos referir a ela pelo nome `pd`\n",
        "3. Utiliza a biblioteca `pandas` para ler a planilha excel e salvá-la em uma variável chamada `df`\n",
        "\n",
        "\n",
        "### Glossário\n",
        "- `GitHub`: um dos lugares mais utilizados por desenvolvedores de softwares para compartilhar códigos com a comunidade mundial.\n",
        "- `pandas`: biblioteca para manipulação de tabelas, normalmente conhecidas como `dataframes`.\n",
        "- `dataframes`: pode ser entendido como uma tabela de dados com linhas e colunas, como uma sheet/folha no Excel.\n",
        "- `pd`: um apelido convencinado pela comunidade `pandas` para se referir ao `pandas` dentro de um código.\n",
        "- `df`: uma abreviação de dataframe. É uma outra convenção da comunidade."
      ]
    },
    {
      "cell_type": "code",
      "metadata": {
        "id": "9bGwn2SPl_GQ"
      },
      "source": [
        "import pandas as pd"
      ],
      "execution_count": null,
      "outputs": []
    },
    {
      "cell_type": "code",
      "metadata": {
        "id": "Sny94x3cmv-o"
      },
      "source": [
        "df = pd.read_excel(\"Superloja.xls\")"
      ],
      "execution_count": null,
      "outputs": []
    },
    {
      "cell_type": "markdown",
      "metadata": {
        "id": "9jXuNxa7tbE6"
      },
      "source": [
        "### Overview\n",
        "\n",
        "#### Glossário\n",
        "\n",
        "- `shape`: indica a quantidade de linhas e colunas de um dataframe.\n",
        "- `head`: exibe as `n` primeiras linhas de um dataframe. Por padrão, `n=5`, mas podemos passar outros valores de acordo com a necessidade."
      ]
    },
    {
      "cell_type": "code",
      "metadata": {
        "id": "RHDFxPQJCYOY"
      },
      "source": [
        "df.shape"
      ],
      "execution_count": null,
      "outputs": []
    },
    {
      "cell_type": "code",
      "metadata": {
        "id": "oYocC5Y0rbDB"
      },
      "source": [
        "df.head(2)"
      ],
      "execution_count": null,
      "outputs": []
    },
    {
      "cell_type": "markdown",
      "metadata": {
        "id": "eSBQ1Fc7rodT"
      },
      "source": [
        "## Relatório inicial\n",
        "\n",
        "- Vamos utilizar a biblioteca `pandas_profiling` para gerar automaticamente uma análise exploratória inicial.\n",
        "- Após declaramos o uso da bibliteca com o comando `import`, ficará disponível o comando `profile_report`."
      ]
    },
    {
      "cell_type": "code",
      "metadata": {
        "id": "_W1KIsgpswsr"
      },
      "source": [
        "import pandas_profiling"
      ],
      "execution_count": null,
      "outputs": []
    },
    {
      "cell_type": "code",
      "metadata": {
        "id": "bnxcnf84sE0F"
      },
      "source": [
        "profile = df.profile_report(title=\"Análise exploratória automatizada - Case ITI\")"
      ],
      "execution_count": null,
      "outputs": []
    },
    {
      "cell_type": "code",
      "metadata": {
        "id": "AqNn7mbXENk7"
      },
      "source": [
        "profile.to_file(\"relatório.html\")"
      ],
      "execution_count": null,
      "outputs": []
    }
  ]
}